{
  "nbformat": 4,
  "nbformat_minor": 0,
  "metadata": {
    "colab": {
      "provenance": []
    },
    "kernelspec": {
      "name": "python3",
      "display_name": "Python 3"
    },
    "language_info": {
      "name": "python"
    }
  },
  "cells": [
    {
      "cell_type": "code",
      "execution_count": 2,
      "metadata": {
        "colab": {
          "base_uri": "https://localhost:8080/"
        },
        "id": "mzOxqtOutpT-",
        "outputId": "a64ca3a6-8b23-4be1-cfdb-5f837132f6ca"
      },
      "outputs": [
        {
          "output_type": "stream",
          "name": "stdout",
          "text": [
            "Accuracy: 1.0\n",
            "Prediction for 'Loved it': negative\n"
          ]
        }
      ],
      "source": [
        "import pandas as pd\n",
        "from sklearn.feature_extraction.text import CountVectorizer\n",
        "from sklearn.model_selection import train_test_split\n",
        "from sklearn.naive_bayes import MultinomialNB\n",
        "from sklearn.metrics import accuracy_score\n",
        "\n",
        "\n",
        "reviews = [\"Good movie\"]*50 + [\"Bad movie\"]*50\n",
        "sentiments = [\"positive\"]*50 + [\"negative\"]*50\n",
        "df = pd.DataFrame({'Review': reviews, 'Sentiment': sentiments})\n",
        "\n",
        "vectorizer = CountVectorizer(max_features=500, stop_words='english')\n",
        "X = vectorizer.fit_transform(df['Review'])\n",
        "y = df['Sentiment']\n",
        "\n",
        "X_train, X_test, y_train, y_test = train_test_split(X, y, test_size=0.2, random_state=42)\n",
        "\n",
        "model = MultinomialNB()\n",
        "model.fit(X_train, y_train)\n",
        "\n",
        "y_pred = model.predict(X_test)\n",
        "print(\"Accuracy:\", accuracy_score(y_test, y_pred))\n",
        "\n",
        "def predict_review_sentiment(model, vectorizer, review):\n",
        "    vec = vectorizer.transform([review])\n",
        "    return model.predict(vec)[0]\n",
        "\n",
        "print(\"Prediction for 'Loved it':\", predict_review_sentiment(model, vectorizer, \"Loved it\"))\n"
      ]
    },
    {
      "cell_type": "markdown",
      "source": [],
      "metadata": {
        "id": "yh5uqFTVtuOQ"
      }
    }
  ]
}