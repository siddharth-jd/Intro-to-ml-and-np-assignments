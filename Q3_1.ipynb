{
  "nbformat": 4,
  "nbformat_minor": 0,
  "metadata": {
    "colab": {
      "provenance": []
    },
    "kernelspec": {
      "name": "python3",
      "display_name": "Python 3"
    },
    "language_info": {
      "name": "python"
    }
  },
  "cells": [
    {
      "cell_type": "code",
      "execution_count": 2,
      "metadata": {
        "colab": {
          "base_uri": "https://localhost:8080/"
        },
        "id": "UlAJ5h-ItOAA",
        "outputId": "d9557343-5cb7-42fc-cf5d-a2e5931b17fb"
      },
      "outputs": [
        {
          "output_type": "stream",
          "name": "stdout",
          "text": [
            "Sorted by score:\n",
            "         Name  Subject  Score Grade\n",
            "4   Student5  English     99     A\n",
            "5   Student6     Math     96     A\n",
            "7   Student8  Science     95     A\n",
            "0   Student1  Science     92     A\n",
            "2   Student3     Math     87     B\n",
            "1   Student2  English     86     B\n",
            "9  Student10  Science     85     B\n",
            "6   Student7  English     79     C\n",
            "8   Student9  Science     76     C\n",
            "3   Student4  Science     55     F\n",
            "Average per subject:\n",
            " Subject\n",
            "English    88.0\n",
            "Math       91.5\n",
            "Science    80.6\n",
            "Name: Score, dtype: float64\n",
            "Filtered A/B grades:\n",
            "         Name  Subject  Score Grade\n",
            "0   Student1  Science     92     A\n",
            "1   Student2  English     86     B\n",
            "2   Student3     Math     87     B\n",
            "4   Student5  English     99     A\n",
            "5   Student6     Math     96     A\n",
            "7   Student8  Science     95     A\n",
            "9  Student10  Science     85     B\n"
          ]
        }
      ],
      "source": [
        "import pandas as pd\n",
        "import numpy as np\n",
        "import random\n",
        "\n",
        "names = [f\"Student{i}\" for i in range(1, 11)]\n",
        "subjects = random.choices(['Math', 'Science', 'English'], k=10)\n",
        "scores = np.random.randint(50, 101, size=10)\n",
        "grades = []\n",
        "\n",
        "df = pd.DataFrame({'Name': names, 'Subject': subjects, 'Score': scores})\n",
        "\n",
        "def assign_grade(score):\n",
        "    if score >= 90: return 'A'\n",
        "    elif score >= 80: return 'B'\n",
        "    elif score >= 70: return 'C'\n",
        "    elif score >= 60: return 'D'\n",
        "    else: return 'F'\n",
        "\n",
        "df['Grade'] = df['Score'].apply(assign_grade)\n",
        "\n",
        "print(\"Sorted by score:\\n\", df.sort_values(by='Score', ascending=False))\n",
        "\n",
        "print(\"Average per subject:\\n\", df.groupby('Subject')['Score'].mean())\n",
        "\n",
        "def pandas_filter_pass(dataframe):\n",
        "    return dataframe[dataframe['Grade'].isin(['A', 'B'])]\n",
        "\n",
        "print(\"Filtered A/B grades:\\n\", pandas_filter_pass(df))\n"
      ]
    },
    {
      "cell_type": "code",
      "source": [],
      "metadata": {
        "id": "ft2HR8VWtTwt"
      },
      "execution_count": null,
      "outputs": []
    }
  ]
}