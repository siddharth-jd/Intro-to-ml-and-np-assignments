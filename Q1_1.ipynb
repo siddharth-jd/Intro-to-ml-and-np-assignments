import numpy as np

arr = np.random.randint(1, 51, size=(5, 4))
print("Array:\n", arr)

anti_diag = [arr[i][-(i+1)] for i in range(min(arr.shape))]
print("Anti-diagonal:", anti_diag)

row_max = np.max(arr, axis=1)
print("Row-wise max:", row_max)

mean_val = np.mean(arr)
filtered_arr = arr[arr <= mean_val]
print("Elements <= mean:", filtered_arr)

def numpy_boundary_traversal(matrix):
    top = matrix[0, :]
    right = matrix[1:-1, -1]
    bottom = matrix[-1, ::-1]
    left = matrix[-2:0:-1, 0]
    return np.concatenate([top, right, bottom, left]).tolist()

print("Boundary traversal:", numpy_boundary_traversal(arr))
