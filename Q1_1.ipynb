{
  "nbformat": 4,
  "nbformat_minor": 0,
  "metadata": {
    "colab": {
      "provenance": []
    },
    "kernelspec": {
      "name": "python3",
      "display_name": "Python 3"
    },
    "language_info": {
      "name": "python"
    }
  },
  "cells": [
    {
      "cell_type": "code",
      "execution_count": 1,
      "metadata": {
        "colab": {
          "base_uri": "https://localhost:8080/"
        },
        "id": "UfpMO4M8rTzu",
        "outputId": "c98abe0d-8643-4ec8-fe2f-569275622665"
      },
      "outputs": [
        {
          "output_type": "stream",
          "name": "stdout",
          "text": [
            "Array:\n",
            " [[17 29 19 41]\n",
            " [10 44 16 31]\n",
            " [13 39 34 44]\n",
            " [10 31 19 21]\n",
            " [42 41 31  2]]\n",
            "Anti-diagonal: [np.int64(41), np.int64(16), np.int64(39), np.int64(10)]\n",
            "Row-wise max: [41 44 44 31 42]\n",
            "Elements <= mean: [17 19 10 16 13 10 19 21  2]\n",
            "Boundary traversal: [17, 29, 19, 41, 31, 44, 21, 2, 31, 41, 42, 10, 13, 10]\n"
          ]
        }
      ],
      "source": [
        "import numpy as np\n",
        "\n",
        "arr = np.random.randint(1, 51, size=(5, 4))\n",
        "print(\"Array:\\n\", arr)\n",
        "\n",
        "anti_diag = [arr[i][-(i+1)] for i in range(min(arr.shape))]\n",
        "print(\"Anti-diagonal:\", anti_diag)\n",
        "\n",
        "row_max = np.max(arr, axis=1)\n",
        "print(\"Row-wise max:\", row_max)\n",
        "\n",
        "mean_val = np.mean(arr)\n",
        "filtered_arr = arr[arr <= mean_val]\n",
        "print(\"Elements <= mean:\", filtered_arr)\n",
        "\n",
        "def numpy_boundary_traversal(matrix):\n",
        "    top = matrix[0, :]\n",
        "    right = matrix[1:-1, -1]\n",
        "    bottom = matrix[-1, ::-1]\n",
        "    left = matrix[-2:0:-1, 0]\n",
        "    return np.concatenate([top, right, bottom, left]).tolist()\n",
        "\n",
        "print(\"Boundary traversal:\", numpy_boundary_traversal(arr))\n"
      ]
    },
    {
      "cell_type": "code",
      "source": [],
      "metadata": {
        "id": "K1k7AKXYraTS"
      },
      "execution_count": null,
      "outputs": []
    }
  ]
}