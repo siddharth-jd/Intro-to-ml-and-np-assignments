{
  "cells": [
    {
      "cell_type": "code",
      "execution_count": 1,
      "id": "388af69d",
      "metadata": {
        "colab": {
          "base_uri": "https://localhost:8080/"
        },
        "id": "388af69d",
        "executionInfo": {
          "status": "ok",
          "timestamp": 1752084553024,
          "user_tz": -330,
          "elapsed": 148795,
          "user": {
            "displayName": "Siddharth Jeedula",
            "userId": "16921178490604456349"
          }
        },
        "outputId": "64d0cbc8-a068-4e30-9d6b-f9daee75ca24"
      },
      "outputs": [
        {
          "output_type": "stream",
          "name": "stdout",
          "text": [
            "\u001b[2K     \u001b[90m\u2501\u2501\u2501\u2501\u2501\u2501\u2501\u2501\u2501\u2501\u2501\u2501\u2501\u2501\u2501\u2501\u2501\u2501\u2501\u2501\u2501\u2501\u2501\u2501\u2501\u2501\u2501\u2501\u2501\u2501\u2501\u2501\u2501\u2501\u2501\u2501\u2501\u2501\u2501\u2501\u001b[0m \u001b[32m40.9/40.9 kB\u001b[0m \u001b[31m1.9 MB/s\u001b[0m eta \u001b[36m0:00:00\u001b[0m\n",
            "\u001b[2K   \u001b[90m\u2501\u2501\u2501\u2501\u2501\u2501\u2501\u2501\u2501\u2501\u2501\u2501\u2501\u2501\u2501\u2501\u2501\u2501\u2501\u2501\u2501\u2501\u2501\u2501\u2501\u2501\u2501\u2501\u2501\u2501\u2501\u2501\u2501\u2501\u2501\u2501\u2501\u2501\u2501\u2501\u001b[0m \u001b[32m10.8/10.8 MB\u001b[0m \u001b[31m37.2 MB/s\u001b[0m eta \u001b[36m0:00:00\u001b[0m\n",
            "\u001b[2K   \u001b[90m\u2501\u2501\u2501\u2501\u2501\u2501\u2501\u2501\u2501\u2501\u2501\u2501\u2501\u2501\u2501\u2501\u2501\u2501\u2501\u2501\u2501\u2501\u2501\u2501\u2501\u2501\u2501\u2501\u2501\u2501\u2501\u2501\u2501\u2501\u2501\u2501\u2501\u2501\u2501\u2501\u001b[0m \u001b[32m363.4/363.4 MB\u001b[0m \u001b[31m4.2 MB/s\u001b[0m eta \u001b[36m0:00:00\u001b[0m\n",
            "\u001b[2K   \u001b[90m\u2501\u2501\u2501\u2501\u2501\u2501\u2501\u2501\u2501\u2501\u2501\u2501\u2501\u2501\u2501\u2501\u2501\u2501\u2501\u2501\u2501\u2501\u2501\u2501\u2501\u2501\u2501\u2501\u2501\u2501\u2501\u2501\u2501\u2501\u2501\u2501\u2501\u2501\u2501\u2501\u001b[0m \u001b[32m13.8/13.8 MB\u001b[0m \u001b[31m34.4 MB/s\u001b[0m eta \u001b[36m0:00:00\u001b[0m\n",
            "\u001b[2K   \u001b[90m\u2501\u2501\u2501\u2501\u2501\u2501\u2501\u2501\u2501\u2501\u2501\u2501\u2501\u2501\u2501\u2501\u2501\u2501\u2501\u2501\u2501\u2501\u2501\u2501\u2501\u2501\u2501\u2501\u2501\u2501\u2501\u2501\u2501\u2501\u2501\u2501\u2501\u2501\u2501\u2501\u001b[0m \u001b[32m24.6/24.6 MB\u001b[0m \u001b[31m56.1 MB/s\u001b[0m eta \u001b[36m0:00:00\u001b[0m\n",
            "\u001b[2K   \u001b[90m\u2501\u2501\u2501\u2501\u2501\u2501\u2501\u2501\u2501\u2501\u2501\u2501\u2501\u2501\u2501\u2501\u2501\u2501\u2501\u2501\u2501\u2501\u2501\u2501\u2501\u2501\u2501\u2501\u2501\u2501\u2501\u2501\u2501\u2501\u2501\u2501\u2501\u2501\u2501\u2501\u001b[0m \u001b[32m883.7/883.7 kB\u001b[0m \u001b[31m36.6 MB/s\u001b[0m eta \u001b[36m0:00:00\u001b[0m\n",
            "\u001b[2K   \u001b[90m\u2501\u2501\u2501\u2501\u2501\u2501\u2501\u2501\u2501\u2501\u2501\u2501\u2501\u2501\u2501\u2501\u2501\u2501\u2501\u2501\u2501\u2501\u2501\u2501\u2501\u2501\u2501\u2501\u2501\u2501\u2501\u2501\u2501\u2501\u2501\u2501\u2501\u2501\u2501\u2501\u001b[0m \u001b[32m664.8/664.8 MB\u001b[0m \u001b[31m1.3 MB/s\u001b[0m eta \u001b[36m0:00:00\u001b[0m\n",
            "\u001b[2K   \u001b[90m\u2501\u2501\u2501\u2501\u2501\u2501\u2501\u2501\u2501\u2501\u2501\u2501\u2501\u2501\u2501\u2501\u2501\u2501\u2501\u2501\u2501\u2501\u2501\u2501\u2501\u2501\u2501\u2501\u2501\u2501\u2501\u2501\u2501\u2501\u2501\u2501\u2501\u2501\u2501\u2501\u001b[0m \u001b[32m211.5/211.5 MB\u001b[0m \u001b[31m6.0 MB/s\u001b[0m eta \u001b[36m0:00:00\u001b[0m\n",
            "\u001b[2K   \u001b[90m\u2501\u2501\u2501\u2501\u2501\u2501\u2501\u2501\u2501\u2501\u2501\u2501\u2501\u2501\u2501\u2501\u2501\u2501\u2501\u2501\u2501\u2501\u2501\u2501\u2501\u2501\u2501\u2501\u2501\u2501\u2501\u2501\u2501\u2501\u2501\u2501\u2501\u2501\u2501\u2501\u001b[0m \u001b[32m56.3/56.3 MB\u001b[0m \u001b[31m14.3 MB/s\u001b[0m eta \u001b[36m0:00:00\u001b[0m\n",
            "\u001b[2K   \u001b[90m\u2501\u2501\u2501\u2501\u2501\u2501\u2501\u2501\u2501\u2501\u2501\u2501\u2501\u2501\u2501\u2501\u2501\u2501\u2501\u2501\u2501\u2501\u2501\u2501\u2501\u2501\u2501\u2501\u2501\u2501\u2501\u2501\u2501\u2501\u2501\u2501\u2501\u2501\u2501\u2501\u001b[0m \u001b[32m127.9/127.9 MB\u001b[0m \u001b[31m7.8 MB/s\u001b[0m eta \u001b[36m0:00:00\u001b[0m\n",
            "\u001b[2K   \u001b[90m\u2501\u2501\u2501\u2501\u2501\u2501\u2501\u2501\u2501\u2501\u2501\u2501\u2501\u2501\u2501\u2501\u2501\u2501\u2501\u2501\u2501\u2501\u2501\u2501\u2501\u2501\u2501\u2501\u2501\u2501\u2501\u2501\u2501\u2501\u2501\u2501\u2501\u2501\u2501\u2501\u001b[0m \u001b[32m207.5/207.5 MB\u001b[0m \u001b[31m6.2 MB/s\u001b[0m eta \u001b[36m0:00:00\u001b[0m\n",
            "\u001b[2K   \u001b[90m\u2501\u2501\u2501\u2501\u2501\u2501\u2501\u2501\u2501\u2501\u2501\u2501\u2501\u2501\u2501\u2501\u2501\u2501\u2501\u2501\u2501\u2501\u2501\u2501\u2501\u2501\u2501\u2501\u2501\u2501\u2501\u2501\u2501\u2501\u2501\u2501\u2501\u2501\u2501\u2501\u001b[0m \u001b[32m21.1/21.1 MB\u001b[0m \u001b[31m79.4 MB/s\u001b[0m eta \u001b[36m0:00:00\u001b[0m\n",
            "\u001b[?25hRequirement already satisfied: datasets in /usr/local/lib/python3.11/dist-packages (2.14.4)\n",
            "Collecting datasets\n",
            "  Downloading datasets-4.0.0-py3-none-any.whl.metadata (19 kB)\n",
            "Requirement already satisfied: huggingface_hub in /usr/local/lib/python3.11/dist-packages (0.33.2)\n",
            "Requirement already satisfied: fsspec in /usr/local/lib/python3.11/dist-packages (2025.3.2)\n",
            "Collecting fsspec\n",
            "  Downloading fsspec-2025.5.1-py3-none-any.whl.metadata (11 kB)\n",
            "Requirement already satisfied: filelock in /usr/local/lib/python3.11/dist-packages (from datasets) (3.18.0)\n",
            "Requirement already satisfied: numpy>=1.17 in /usr/local/lib/python3.11/dist-packages (from datasets) (2.0.2)\n",
            "Requirement already satisfied: pyarrow>=15.0.0 in /usr/local/lib/python3.11/dist-packages (from datasets) (18.1.0)\n",
            "Requirement already satisfied: dill<0.3.9,>=0.3.0 in /usr/local/lib/python3.11/dist-packages (from datasets) (0.3.7)\n",
            "Requirement already satisfied: pandas in /usr/local/lib/python3.11/dist-packages (from datasets) (2.2.2)\n",
            "Requirement already satisfied: requests>=2.32.2 in /usr/local/lib/python3.11/dist-packages (from datasets) (2.32.3)\n",
            "Requirement already satisfied: tqdm>=4.66.3 in /usr/local/lib/python3.11/dist-packages (from datasets) (4.67.1)\n",
            "Requirement already satisfied: xxhash in /usr/local/lib/python3.11/dist-packages (from datasets) (3.5.0)\n",
            "Requirement already satisfied: multiprocess<0.70.17 in /usr/local/lib/python3.11/dist-packages (from datasets) (0.70.15)\n",
            "  Downloading fsspec-2025.3.0-py3-none-any.whl.metadata (11 kB)\n",
            "Requirement already satisfied: packaging in /usr/local/lib/python3.11/dist-packages (from datasets) (24.2)\n",
            "Requirement already satisfied: pyyaml>=5.1 in /usr/local/lib/python3.11/dist-packages (from datasets) (6.0.2)\n",
            "Requirement already satisfied: typing-extensions>=3.7.4.3 in /usr/local/lib/python3.11/dist-packages (from huggingface_hub) (4.14.0)\n",
            "Requirement already satisfied: hf-xet<2.0.0,>=1.1.2 in /usr/local/lib/python3.11/dist-packages (from huggingface_hub) (1.1.5)\n",
            "Requirement already satisfied: aiohttp!=4.0.0a0,!=4.0.0a1 in /usr/local/lib/python3.11/dist-packages (from fsspec[http]<=2025.3.0,>=2023.1.0->datasets) (3.11.15)\n",
            "Requirement already satisfied: charset-normalizer<4,>=2 in /usr/local/lib/python3.11/dist-packages (from requests>=2.32.2->datasets) (3.4.2)\n",
            "Requirement already satisfied: idna<4,>=2.5 in /usr/local/lib/python3.11/dist-packages (from requests>=2.32.2->datasets) (3.10)\n",
            "Requirement already satisfied: urllib3<3,>=1.21.1 in /usr/local/lib/python3.11/dist-packages (from requests>=2.32.2->datasets) (2.4.0)\n",
            "Requirement already satisfied: certifi>=2017.4.17 in /usr/local/lib/python3.11/dist-packages (from requests>=2.32.2->datasets) (2025.6.15)\n",
            "Requirement already satisfied: python-dateutil>=2.8.2 in /usr/local/lib/python3.11/dist-packages (from pandas->datasets) (2.9.0.post0)\n",
            "Requirement already satisfied: pytz>=2020.1 in /usr/local/lib/python3.11/dist-packages (from pandas->datasets) (2025.2)\n",
            "Requirement already satisfied: tzdata>=2022.7 in /usr/local/lib/python3.11/dist-packages (from pandas->datasets) (2025.2)\n",
            "Requirement already satisfied: aiohappyeyeballs>=2.3.0 in /usr/local/lib/python3.11/dist-packages (from aiohttp!=4.0.0a0,!=4.0.0a1->fsspec[http]<=2025.3.0,>=2023.1.0->datasets) (2.6.1)\n",
            "Requirement already satisfied: aiosignal>=1.1.2 in /usr/local/lib/python3.11/dist-packages (from aiohttp!=4.0.0a0,!=4.0.0a1->fsspec[http]<=2025.3.0,>=2023.1.0->datasets) (1.3.2)\n",
            "Requirement already satisfied: attrs>=17.3.0 in /usr/local/lib/python3.11/dist-packages (from aiohttp!=4.0.0a0,!=4.0.0a1->fsspec[http]<=2025.3.0,>=2023.1.0->datasets) (25.3.0)\n",
            "Requirement already satisfied: frozenlist>=1.1.1 in /usr/local/lib/python3.11/dist-packages (from aiohttp!=4.0.0a0,!=4.0.0a1->fsspec[http]<=2025.3.0,>=2023.1.0->datasets) (1.7.0)\n",
            "Requirement already satisfied: multidict<7.0,>=4.5 in /usr/local/lib/python3.11/dist-packages (from aiohttp!=4.0.0a0,!=4.0.0a1->fsspec[http]<=2025.3.0,>=2023.1.0->datasets) (6.6.3)\n",
            "Requirement already satisfied: propcache>=0.2.0 in /usr/local/lib/python3.11/dist-packages (from aiohttp!=4.0.0a0,!=4.0.0a1->fsspec[http]<=2025.3.0,>=2023.1.0->datasets) (0.3.2)\n",
            "Requirement already satisfied: yarl<2.0,>=1.17.0 in /usr/local/lib/python3.11/dist-packages (from aiohttp!=4.0.0a0,!=4.0.0a1->fsspec[http]<=2025.3.0,>=2023.1.0->datasets) (1.20.1)\n",
            "Requirement already satisfied: six>=1.5 in /usr/local/lib/python3.11/dist-packages (from python-dateutil>=2.8.2->pandas->datasets) (1.17.0)\n",
            "Downloading datasets-4.0.0-py3-none-any.whl (494 kB)\n",
            "\u001b[2K   \u001b[90m\u2501\u2501\u2501\u2501\u2501\u2501\u2501\u2501\u2501\u2501\u2501\u2501\u2501\u2501\u2501\u2501\u2501\u2501\u2501\u2501\u2501\u2501\u2501\u2501\u2501\u2501\u2501\u2501\u2501\u2501\u2501\u2501\u2501\u2501\u2501\u2501\u2501\u2501\u2501\u2501\u001b[0m \u001b[32m494.8/494.8 kB\u001b[0m \u001b[31m11.3 MB/s\u001b[0m eta \u001b[36m0:00:00\u001b[0m\n",
            "\u001b[?25hDownloading fsspec-2025.3.0-py3-none-any.whl (193 kB)\n",
            "\u001b[2K   \u001b[90m\u2501\u2501\u2501\u2501\u2501\u2501\u2501\u2501\u2501\u2501\u2501\u2501\u2501\u2501\u2501\u2501\u2501\u2501\u2501\u2501\u2501\u2501\u2501\u2501\u2501\u2501\u2501\u2501\u2501\u2501\u2501\u2501\u2501\u2501\u2501\u2501\u2501\u2501\u2501\u2501\u001b[0m \u001b[32m193.6/193.6 kB\u001b[0m \u001b[31m15.7 MB/s\u001b[0m eta \u001b[36m0:00:00\u001b[0m\n",
            "\u001b[?25hInstalling collected packages: fsspec, datasets\n",
            "  Attempting uninstall: fsspec\n",
            "    Found existing installation: fsspec 2025.3.2\n",
            "    Uninstalling fsspec-2025.3.2:\n",
            "      Successfully uninstalled fsspec-2025.3.2\n",
            "  Attempting uninstall: datasets\n",
            "    Found existing installation: datasets 2.14.4\n",
            "    Uninstalling datasets-2.14.4:\n",
            "      Successfully uninstalled datasets-2.14.4\n",
            "\u001b[31mERROR: pip's dependency resolver does not currently take into account all the packages that are installed. This behaviour is the source of the following dependency conflicts.\n",
            "gcsfs 2025.3.2 requires fsspec==2025.3.2, but you have fsspec 2025.3.0 which is incompatible.\u001b[0m\u001b[31m\n",
            "\u001b[0mSuccessfully installed datasets-4.0.0 fsspec-2025.3.0\n"
          ]
        }
      ],
      "source": [
        "\n",
        "!pip install -q transformers==4.53.1 datasets tokenizers torch\n",
        "!pip install -U datasets huggingface_hub fsspec\n"
      ]
    },
    {
      "cell_type": "code",
      "execution_count": 2,
      "id": "88edc5f0",
      "metadata": {
        "id": "88edc5f0",
        "executionInfo": {
          "status": "ok",
          "timestamp": 1752084614782,
          "user_tz": -330,
          "elapsed": 31563,
          "user": {
            "displayName": "Siddharth Jeedula",
            "userId": "16921178490604456349"
          }
        }
      },
      "outputs": [],
      "source": [
        "\n",
        "import os\n",
        "import torch\n",
        "import math\n",
        "import warnings\n",
        "from datasets import load_dataset, Dataset\n",
        "from transformers import GPT2LMHeadModel, GPT2Tokenizer, Trainer, TrainingArguments, DataCollatorForLanguageModeling\n",
        "from torch.utils.data import DataLoader\n",
        "\n",
        "warnings.filterwarnings('ignore')\n",
        "os.environ[\"WANDB_DISABLED\"] = \"true\"\n"
      ]
    },
    {
      "cell_type": "code",
      "execution_count": 15,
      "id": "f6eb5d97",
      "metadata": {
        "id": "f6eb5d97",
        "executionInfo": {
          "status": "ok",
          "timestamp": 1752085616570,
          "user_tz": -330,
          "elapsed": 25,
          "user": {
            "displayName": "Siddharth Jeedula",
            "userId": "16921178490604456349"
          }
        }
      },
      "outputs": [],
      "source": [
        "\n",
        "class LanguageModelFineTuner:\n",
        "    def __init__(self, model_id=\"gpt2\", seq_len=128):\n",
        "        self.device = torch.device(\"cuda\" if torch.cuda.is_available() else \"cpu\")\n",
        "        print(f\"Loaded on device: {self.device}\")\n",
        "\n",
        "        self.tokenizer = GPT2Tokenizer.from_pretrained(model_id)\n",
        "        self.tokenizer.pad_token = self.tokenizer.eos_token\n",
        "\n",
        "        self.model = GPT2LMHeadModel.from_pretrained(model_id)\n",
        "        self.model.to(self.device)\n",
        "        self.seq_len = seq_len\n",
        "\n",
        "    def prepare_data(self, dataset_name=\"wikitext\", subset=\"wikitext-2-raw-v1\", sample_limit=100):\n",
        "        raw = load_dataset(dataset_name, subset)\n",
        "        raw[\"train\"] = raw[\"train\"].select(range(min(sample_limit, len(raw[\"train\"]))))\n",
        "        raw[\"validation\"] = raw[\"validation\"].select(range(min(sample_limit // 4, len(raw[\"validation\"]))))\n",
        "\n",
        "        def tokenize_batch(batch):\n",
        "            texts = [t.strip() for t in batch[\"text\"] if t.strip()]\n",
        "            ids, masks = [], []\n",
        "            for text in texts:\n",
        "                if len(text) > 30:\n",
        "                    tokens = self.tokenizer(\n",
        "                        text,\n",
        "                        truncation=True,\n",
        "                        max_length=self.seq_len,\n",
        "                        return_tensors=\"pt\"\n",
        "                    )\n",
        "                    if tokens[\"input_ids\"].size(1) > 5:\n",
        "                        ids.append(tokens[\"input_ids\"].squeeze().tolist())\n",
        "                        masks.append(tokens[\"attention_mask\"].squeeze().tolist())\n",
        "            return {\"input_ids\": ids, \"attention_mask\": masks}\n",
        "\n",
        "        tokenized = raw.map(tokenize_batch, batched=True, remove_columns=raw[\"train\"].column_names)\n",
        "\n",
        "        def unroll(data):\n",
        "            all_ids, all_masks = [], []\n",
        "            for row in data:\n",
        "                if row[\"input_ids\"]:\n",
        "                    if isinstance(row[\"input_ids\"][0], list):\n",
        "                        all_ids.extend(row[\"input_ids\"])\n",
        "                        all_masks.extend(row[\"attention_mask\"])\n",
        "                    else:\n",
        "                        all_ids.append(row[\"input_ids\"])\n",
        "                        all_masks.append(row[\"attention_mask\"])\n",
        "            return {\"input_ids\": all_ids, \"attention_mask\": all_masks}\n",
        "\n",
        "        train = unroll(tokenized[\"train\"])\n",
        "        val = unroll(tokenized[\"validation\"])\n",
        "        return {\n",
        "            \"train\": Dataset.from_dict(train),\n",
        "            \"validation\": Dataset.from_dict(val)\n",
        "        }\n",
        "\n",
        "    def predict_top_words(self, text, top_k=3, temperature=1.0):\n",
        "        self.model.eval()\n",
        "        inputs = self.tokenizer(text, return_tensors=\"pt\").to(self.device)\n",
        "        with torch.no_grad():\n",
        "            outputs = self.model(**inputs)\n",
        "            logits = outputs.logits[0, -1, :] / temperature\n",
        "            probs = torch.softmax(logits, dim=-1)\n",
        "            top_k_probs, top_k_indices = torch.topk(probs, top_k)\n",
        "            predictions = []\n",
        "            for i in range(top_k):\n",
        "                token_id = top_k_indices[i].item()\n",
        "                word = self.tokenizer.decode([token_id]).strip()\n",
        "                probability = top_k_probs[i].item()\n",
        "                predictions.append((word, probability))\n",
        "        return predictions\n",
        "\n",
        "    def generate_text_snippet(self, prompt, length=30, temperature=1.0, top_p=0.9):\n",
        "        self.model.eval()\n",
        "        inputs = self.tokenizer(prompt, return_tensors=\"pt\").to(self.device)\n",
        "        with torch.no_grad():\n",
        "            outputs = self.model.generate(\n",
        "                inputs.input_ids,\n",
        "                max_length=length,\n",
        "                temperature=temperature,\n",
        "                top_p=top_p,\n",
        "                do_sample=True,\n",
        "                pad_token_id=self.tokenizer.eos_token_id,\n",
        "                attention_mask=inputs.attention_mask\n",
        "            )\n",
        "            return self.tokenizer.decode(outputs[0], skip_special_tokens=True)\n"
      ]
    },
    {
      "cell_type": "code",
      "execution_count": 16,
      "id": "adbac02b",
      "metadata": {
        "colab": {
          "base_uri": "https://localhost:8080/",
          "height": 130,
          "referenced_widgets": [
            "9af52c606f524baf900be8682fe32f79",
            "3b01b4b732b94eeebda259d1a89e34db",
            "2bd3b98bffcd49439d53794d827d04f1",
            "770798781e084b7d8ba8eff4449e4456",
            "bedd1fd784ab4140bda0d76443f63e15",
            "56e608160d0a4555be85a5f8a52e3ddd",
            "aa38712a24e8426c9acbb4752168ca3b",
            "43b382601fb541d5acdf26f5864afb15",
            "fe857813a4f5481f8d5f7d3131105420",
            "9edbc51f7d0f4470877943c33d7003e5",
            "55d33269247943b1a1304f9d6606d31b",
            "673912e8709a4262a3d640a7ef551c80",
            "2a4e11e37df14bc1950b2097fd9a5d4d",
            "f08c38f4c3fa44808e75037388474929",
            "db00ad781f5b467889171194eb2e537e",
            "c36e300916024d149e4e224af4f86e04",
            "201b0d1c07f74767a3038f50858769a8",
            "db8e614a22fc4486b60fc4cfdd754aee",
            "3ace5244489a4b769d5e243c4236e4da",
            "9de53cfc97c0440babeef63df9b13e57",
            "45f4f2471691467a98ec22a5b0d68ab4",
            "4a669ddf822a4bf4ab1a3d16df3d1a15",
            "88cc1166ff6f4773a7bdd7010ace0cb8",
            "a299ec0f260a40aaa80b727d6fb6a138",
            "a8000956488944b8a0c7481b73ede8d2",
            "5f50cf6d67e349adacbd9218fa858913",
            "52933bbc6f4a4b74aef7ccc816265a57",
            "cc32883a46f9414ea6c6a16f7185f9ad",
            "658fa887ab6a44b193a6d42d200a0da2",
            "213f5551efda45e0be65c9bf803ebf9b",
            "fae979257d8c44ac8d9a891153861791",
            "4f56341a232240049e85d6585c3de144",
            "a7813e8d8a4647c1a60cf466ab3e3d00"
          ]
        },
        "id": "adbac02b",
        "executionInfo": {
          "status": "ok",
          "timestamp": 1752085640932,
          "user_tz": -330,
          "elapsed": 19067,
          "user": {
            "displayName": "Siddharth Jeedula",
            "userId": "16921178490604456349"
          }
        },
        "outputId": "f2d83253-708e-4e11-ff18-c88d3f03f746"
      },
      "outputs": [
        {
          "output_type": "stream",
          "name": "stdout",
          "text": [
            "Loaded on device: cpu\n"
          ]
        },
        {
          "output_type": "display_data",
          "data": {
            "text/plain": [
              "Map:   0%|          | 0/4358 [00:00<?, ? examples/s]"
            ],
            "application/vnd.jupyter.widget-view+json": {
              "version_major": 2,
              "version_minor": 0,
              "model_id": "9af52c606f524baf900be8682fe32f79"
            }
          },
          "metadata": {}
        },
        {
          "output_type": "display_data",
          "data": {
            "text/plain": [
              "Map:   0%|          | 0/100 [00:00<?, ? examples/s]"
            ],
            "application/vnd.jupyter.widget-view+json": {
              "version_major": 2,
              "version_minor": 0,
              "model_id": "673912e8709a4262a3d640a7ef551c80"
            }
          },
          "metadata": {}
        },
        {
          "output_type": "display_data",
          "data": {
            "text/plain": [
              "Map:   0%|          | 0/25 [00:00<?, ? examples/s]"
            ],
            "application/vnd.jupyter.widget-view+json": {
              "version_major": 2,
              "version_minor": 0,
              "model_id": "88cc1166ff6f4773a7bdd7010ace0cb8"
            }
          },
          "metadata": {}
        }
      ],
      "source": [
        "\n",
        "trainer_model = LanguageModelFineTuner(model_id=\"gpt2\")\n",
        "tokenized = trainer_model.prepare_data(sample_limit=100)\n"
      ]
    },
    {
      "cell_type": "code",
      "execution_count": 17,
      "id": "70b31338",
      "metadata": {
        "colab": {
          "base_uri": "https://localhost:8080/",
          "height": 304
        },
        "id": "70b31338",
        "executionInfo": {
          "status": "ok",
          "timestamp": 1752085849403,
          "user_tz": -330,
          "elapsed": 178244,
          "user": {
            "displayName": "Siddharth Jeedula",
            "userId": "16921178490604456349"
          }
        },
        "outputId": "6a2c2f9f-8603-48d4-9ef8-b6b5323c549c"
      },
      "outputs": [
        {
          "output_type": "stream",
          "name": "stderr",
          "text": [
            "Using the `WANDB_DISABLED` environment variable is deprecated and will be removed in v5. Use the --report_to flag to control the integrations used for logging result (for instance --report_to none).\n"
          ]
        },
        {
          "output_type": "display_data",
          "data": {
            "text/plain": [
              "<IPython.core.display.HTML object>"
            ],
            "text/html": [
              "\n",
              "    <div>\n",
              "      \n",
              "      <progress value='59' max='59' style='width:300px; height:20px; vertical-align: middle;'></progress>\n",
              "      [59/59 02:54, Epoch 1/1]\n",
              "    </div>\n",
              "    <table border=\"1\" class=\"dataframe\">\n",
              "  <thead>\n",
              " <tr style=\"text-align: left;\">\n",
              "      <th>Step</th>\n",
              "      <th>Training Loss</th>\n",
              "    </tr>\n",
              "  </thead>\n",
              "  <tbody>\n",
              "    <tr>\n",
              "      <td>10</td>\n",
              "      <td>4.813900</td>\n",
              "    </tr>\n",
              "    <tr>\n",
              "      <td>20</td>\n",
              "      <td>4.069800</td>\n",
              "    </tr>\n",
              "    <tr>\n",
              "      <td>30</td>\n",
              "      <td>3.981600</td>\n",
              "    </tr>\n",
              "    <tr>\n",
              "      <td>40</td>\n",
              "      <td>4.146200</td>\n",
              "    </tr>\n",
              "    <tr>\n",
              "      <td>50</td>\n",
              "      <td>4.132200</td>\n",
              "    </tr>\n",
              "  </tbody>\n",
              "</table><p>"
            ]
          },
          "metadata": {}
        },
        {
          "output_type": "execute_result",
          "data": {
            "text/plain": [
              "TrainOutput(global_step=59, training_loss=4.291418948415982, metrics={'train_runtime': 177.7934, 'train_samples_per_second': 0.332, 'train_steps_per_second': 0.332, 'total_flos': 2580258816000.0, 'train_loss': 4.291418948415982, 'epoch': 1.0})"
            ]
          },
          "metadata": {},
          "execution_count": 17
        }
      ],
      "source": [
        "\n",
        "training_args = TrainingArguments(\n",
        "    output_dir=\"./trained_model\",\n",
        "    num_train_epochs=1,\n",
        "    per_device_train_batch_size=1,\n",
        "    per_device_eval_batch_size=1,\n",
        "    do_eval=True,\n",
        "    logging_steps=10,\n",
        "    learning_rate=5e-5,\n",
        "    weight_decay=0.01,\n",
        "    logging_dir=\"./logs\"\n",
        ")\n",
        "\n",
        "data_collator = DataCollatorForLanguageModeling(\n",
        "    tokenizer=trainer_model.tokenizer,\n",
        "    mlm=False,\n",
        "    pad_to_multiple_of=8\n",
        ")\n",
        "\n",
        "trainer = Trainer(\n",
        "    model=trainer_model.model,\n",
        "    args=training_args,\n",
        "    data_collator=data_collator,\n",
        "    train_dataset=tokenized[\"train\"],\n",
        "    eval_dataset=tokenized[\"validation\"],\n",
        "    tokenizer=trainer_model.tokenizer\n",
        ")\n",
        "\n",
        "trainer.train()\n"
      ]
    },
    {
      "cell_type": "code",
      "execution_count": 18,
      "id": "549ca547",
      "metadata": {
        "id": "549ca547",
        "executionInfo": {
          "status": "ok",
          "timestamp": 1752085865292,
          "user_tz": -330,
          "elapsed": 22,
          "user": {
            "displayName": "Siddharth Jeedula",
            "userId": "16921178490604456349"
          }
        }
      },
      "outputs": [],
      "source": [
        "\n",
        "def compute_perplexity(model, dataset):\n",
        "    loader = DataLoader(dataset, batch_size=1)\n",
        "    model.eval()\n",
        "    total_loss, count = 0, 0\n",
        "    with torch.no_grad():\n",
        "        for batch in loader:\n",
        "            ids = torch.tensor(batch[\"input_ids\"]).to(model.device)\n",
        "            mask = torch.tensor(batch[\"attention_mask\"]).to(model.device)\n",
        "            if ids.dim() == 1:\n",
        "                ids, mask = ids.unsqueeze(0), mask.unsqueeze(0)\n",
        "            loss = model(input_ids=ids, attention_mask=mask, labels=ids).loss\n",
        "            total_loss += loss.item()\n",
        "            count += 1\n",
        "    return math.exp(total_loss / count)\n",
        "\n",
        "def top_k_word_accuracy(model, dataset, k=5):\n",
        "    loader = DataLoader(dataset, batch_size=1)\n",
        "    model.eval()\n",
        "    total, correct = 0, 0\n",
        "    with torch.no_grad():\n",
        "        for batch in loader:\n",
        "            ids = torch.tensor(batch[\"input_ids\"]).to(model.device)\n",
        "            mask = torch.tensor(batch[\"attention_mask\"]).to(model.device)\n",
        "            if ids.dim() == 1:\n",
        "                ids, mask = ids.unsqueeze(0), mask.unsqueeze(0)\n",
        "            if ids.size(1) < 2:\n",
        "                continue\n",
        "            inputs, targets = ids[:, :-1], ids[:, 1:]\n",
        "            mask = mask[:, :-1]\n",
        "            logits = model(inputs, attention_mask=mask).logits\n",
        "            top_k_preds = torch.topk(logits, k, dim=-1).indices\n",
        "            for i in range(targets.size(1)):\n",
        "                correct += (top_k_preds[:, i, :] == targets[:, i].unsqueeze(1)).any(dim=1).sum().item()\n",
        "                total += targets.size(0)\n",
        "    return correct / total if total > 0 else 0\n"
      ]
    },
    {
      "cell_type": "code",
      "execution_count": 20,
      "id": "d35ea7f8",
      "metadata": {
        "colab": {
          "base_uri": "https://localhost:8080/"
        },
        "id": "d35ea7f8",
        "executionInfo": {
          "status": "ok",
          "timestamp": 1752085904405,
          "user_tz": -330,
          "elapsed": 12611,
          "user": {
            "displayName": "Siddharth Jeedula",
            "userId": "16921178490604456349"
          }
        },
        "outputId": "704fd40f-8d78-4521-c7f1-66455d638c66"
      },
      "outputs": [
        {
          "output_type": "stream",
          "name": "stdout",
          "text": [
            "Perplexity: 40.82\n",
            "Top-5 Accuracy: 59.57%\n"
          ]
        }
      ],
      "source": [
        "\n",
        "perplex = compute_perplexity(trainer_model.model, tokenized[\"validation\"])\n",
        "top_k_acc = top_k_word_accuracy(trainer_model.model, tokenized[\"validation\"], k=5)\n",
        "\n",
        "\n",
        "print(f\"Perplexity: {perplex:.2f}\")\n",
        "print(f\"Top-5 Accuracy: {top_k_acc*100:.2f}%\")\n"
      ]
    },
    {
      "cell_type": "code",
      "execution_count": 21,
      "id": "9f9d2ffe",
      "metadata": {
        "id": "9f9d2ffe",
        "executionInfo": {
          "status": "ok",
          "timestamp": 1752085908301,
          "user_tz": -330,
          "elapsed": 21,
          "user": {
            "displayName": "Siddharth Jeedula",
            "userId": "16921178490604456349"
          }
        }
      },
      "outputs": [],
      "source": [
        "\n",
        "def test_samples(model_obj):\n",
        "    sample_inputs = [\n",
        "        \"During the early hours of dawn\",\n",
        "        \"Every innovation begins with\",\n",
        "        \"The mountain path twisted through\",\n",
        "        \"She carefully placed the book on\",\n",
        "        \"When machines begin to think,\",\n",
        "        \"A sudden noise from the alley\",\n",
        "        \"The scientist observed the reaction with\"\n",
        "    ]\n",
        "    for sentence in sample_inputs:\n",
        "        print(f\"\\nPrompt: {sentence}\")\n",
        "        predictions = model_obj.predict_top_words(sentence, top_k=3)\n",
        "        for i, (word, prob) in enumerate(predictions, 1):\n",
        "            print(f\"  {i}. {word} (prob: {prob:.4f})\")\n",
        "        gen_text = model_obj.generate_text_snippet(sentence, length=len(sentence.split()) + 10)\n",
        "        print(f\"Generated: {gen_text}\")\n"
      ]
    },
    {
      "cell_type": "code",
      "execution_count": 22,
      "id": "bc94cfd5",
      "metadata": {
        "colab": {
          "base_uri": "https://localhost:8080/"
        },
        "id": "bc94cfd5",
        "executionInfo": {
          "status": "ok",
          "timestamp": 1752085917499,
          "user_tz": -330,
          "elapsed": 6562,
          "user": {
            "displayName": "Siddharth Jeedula",
            "userId": "16921178490604456349"
          }
        },
        "outputId": "e59e8d25-55eb-4248-e642-b40c9a8c1714"
      },
      "outputs": [
        {
          "output_type": "stream",
          "name": "stdout",
          "text": [
            "\n",
            "Prompt: During the early hours of dawn\n",
            "  1. on (prob: 0.5794)\n",
            "  2. in (prob: 0.1372)\n",
            "  3. , (prob: 0.0634)\n",
            "Generated: During the early hours of dawn on Wednesday morning, February 19, 1945, Captain\n",
            "\n",
            "Prompt: Every innovation begins with\n",
            "  1. the (prob: 0.2387)\n",
            "  2. a (prob: 0.1130)\n",
            "  3. an (prob: 0.0303)\n",
            "Generated: Every innovation begins with the first use, and then it must be made\n",
            "\n",
            "Prompt: The mountain path twisted through\n",
            "  1. the (prob: 0.5380)\n",
            "  2. a (prob: 0.0996)\n",
            "  3. its (prob: 0.0296)\n",
            "Generated: The mountain path twisted through the rocky terrain of this mountainous nation and out to\n",
            "\n",
            "Prompt: She carefully placed the book on\n",
            "  1. the (prob: 0.5232)\n",
            "  2. a (prob: 0.1246)\n",
            "  3. his (prob: 0.1143)\n",
            "Generated: She carefully placed the book on the back of her hand and gently took it into\n",
            "\n",
            "Prompt: When machines begin to think,\n",
            "  1. they (prob: 0.1901)\n",
            "  2. the (prob: 0.0754)\n",
            "  3. it (prob: 0.0494)\n",
            "Generated: When machines begin to think, they must also think of things in terms of\n",
            "\n",
            "Prompt: A sudden noise from the alley\n",
            "  1. way (prob: 0.1098)\n",
            "  2. was (prob: 0.0694)\n",
            "  3. behind (prob: 0.0522)\n",
            "Generated: A sudden noise from the alleyway made the officer turn around and run away.\n",
            "\n",
            "Prompt: The scientist observed the reaction with\n",
            "  1. a (prob: 0.2150)\n",
            "  2. his (prob: 0.1744)\n",
            "  3. the (prob: 0.1154)\n",
            "Generated: The scientist observed the reaction with a digital camera at its launch site. During the\n"
          ]
        }
      ],
      "source": [
        "test_samples(trainer_model)"
      ]
    }
  ],
  "metadata": {
    "colab": {
      "provenance": []
    },
    "language_info": {
      "name": "python"
    },
    "kernelspec": {
      "name": "python3",
      "display_name": "Python 3"
    }
  },
  "nbformat": 4,
  "nbformat_minor": 5
}