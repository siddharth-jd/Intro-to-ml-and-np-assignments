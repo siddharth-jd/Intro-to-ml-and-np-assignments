{
  "nbformat": 4,
  "nbformat_minor": 0,
  "metadata": {
    "colab": {
      "provenance": []
    },
    "kernelspec": {
      "name": "python3",
      "display_name": "Python 3"
    },
    "language_info": {
      "name": "python"
    }
  },
  "cells": [
    {
      "cell_type": "code",
      "execution_count": 2,
      "metadata": {
        "colab": {
          "base_uri": "https://localhost:8080/"
        },
        "id": "9z2YFw51uTrr",
        "outputId": "7a55a309-1eb1-4599-c40d-8ef9d71d0d37"
      },
      "outputs": [
        {
          "output_type": "stream",
          "name": "stdout",
          "text": [
            "Precision: 1.0\n",
            "Recall: 1.0\n",
            "F1 Score: 1.0\n",
            "Vectorized sample: [[0. 0. 1.]]\n"
          ]
        }
      ],
      "source": [
        "import pandas as pd\n",
        "from sklearn.feature_extraction.text import TfidfVectorizer\n",
        "from sklearn.linear_model import LogisticRegression\n",
        "from sklearn.feature_extraction.text import CountVectorizer\n",
        "from sklearn.model_selection import train_test_split\n",
        "from sklearn.naive_bayes import MultinomialNB\n",
        "from sklearn.metrics import accuracy_score\n",
        "from sklearn.metrics import precision_score, recall_score, f1_score\n",
        "\n",
        "feedback = [\"Good product\"]*50 + [\"Bad product\"]*50\n",
        "labels = [\"good\"]*50 + [\"bad\"]*50\n",
        "df = pd.DataFrame({'Text': feedback, 'Label': labels})\n",
        "\n",
        "tfidf = TfidfVectorizer(max_features=300, stop_words='english', lowercase=True)\n",
        "X = tfidf.fit_transform(df['Text'])\n",
        "y = df['Label']\n",
        "\n",
        "X_train, X_test, y_train, y_test = train_test_split(X, y, test_size=0.25, random_state=42)\n",
        "\n",
        "clf = LogisticRegression()\n",
        "clf.fit(X_train, y_train)\n",
        "\n",
        "y_pred = clf.predict(X_test)\n",
        "print(\"Precision:\", precision_score(y_test, y_pred, pos_label=\"good\"))\n",
        "print(\"Recall:\", recall_score(y_test, y_pred, pos_label=\"good\"))\n",
        "print(\"F1 Score:\", f1_score(y_test, y_pred, pos_label=\"good\"))\n",
        "\n",
        "def text_preprocess_vectorize(texts, vectorizer):\n",
        "    return vectorizer.transform(texts)\n",
        "\n",
        "print(\"Vectorized sample:\", text_preprocess_vectorize([\"Nice product\"], tfidf).toarray())\n"
      ]
    },
    {
      "cell_type": "code",
      "source": [],
      "metadata": {
        "id": "RG9W9-wmugIx"
      },
      "execution_count": null,
      "outputs": []
    }
  ]
}