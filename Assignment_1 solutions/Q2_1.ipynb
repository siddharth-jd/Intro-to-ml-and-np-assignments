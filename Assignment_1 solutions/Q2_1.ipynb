{
  "nbformat": 4,
  "nbformat_minor": 0,
  "metadata": {
    "colab": {
      "provenance": []
    },
    "kernelspec": {
      "name": "python3",
      "display_name": "Python 3"
    },
    "language_info": {
      "name": "python"
    }
  },
  "cells": [
    {
      "cell_type": "code",
      "execution_count": 2,
      "metadata": {
        "colab": {
          "base_uri": "https://localhost:8080/"
        },
        "id": "uta34pOcsyzb",
        "outputId": "71ed4b88-3415-4d67-b013-44bcddfed6c2"
      },
      "outputs": [
        {
          "output_type": "stream",
          "name": "stdout",
          "text": [
            "Array: [6.53 3.57 4.25 4.65 5.13 5.78 1.26 5.67 3.86 0.9  0.23 8.72 4.78 8.88\n",
            " 3.1  8.37 9.18 4.56 9.48 0.37]\n",
            "Min: 0.23\n",
            "Max: 9.48\n",
            "Median: 4.715\n",
            "Modified array: [ 6.53   12.7449 18.0625 21.6225  5.13    5.78    1.5876  5.67   14.8996\n",
            "  0.81    0.0529  8.72   22.8484  8.88    9.61    8.37    9.18   20.7936\n",
            "  9.48    0.1369]\n",
            "Alternate sorted: [0.23 9.48 0.37 9.18 0.9  8.88 1.26 8.72 3.1  8.37 3.57 6.53 3.86 5.78\n",
            " 4.25 5.67 4.56 5.13 4.65 4.78]\n"
          ]
        }
      ],
      "source": [
        "import numpy as np\n",
        "\n",
        "arr2 = np.random.uniform(0, 10, 20)\n",
        "arr2 = np.round(arr2, 2)\n",
        "print(\"Array:\", arr2)\n",
        "\n",
        "print(\"Min:\", np.min(arr2))\n",
        "print(\"Max:\", np.max(arr2))\n",
        "print(\"Median:\", np.median(arr2))\n",
        "\n",
        "arr2_mod = np.array([x**2 if x < 5 else x for x in arr2])\n",
        "print(\"Modified array:\", arr2_mod)\n",
        "\n",
        "def numpy_alternate_sort(array):\n",
        "    sorted_arr = np.sort(array)\n",
        "    result = []\n",
        "    i, j = 0, len(sorted_arr) - 1\n",
        "    while i <= j:\n",
        "        result.append(sorted_arr[i])\n",
        "        if i != j:\n",
        "            result.append(sorted_arr[j])\n",
        "        i += 1\n",
        "        j -= 1\n",
        "    return np.array(result)\n",
        "\n",
        "print(\"Alternate sorted:\", numpy_alternate_sort(arr2))\n"
      ]
    },
    {
      "cell_type": "code",
      "source": [],
      "metadata": {
        "id": "IYIcTMxos5Ep"
      },
      "execution_count": null,
      "outputs": []
    }
  ]
}